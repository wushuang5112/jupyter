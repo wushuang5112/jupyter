{
 "cells": [
  {
   "cell_type": "code",
   "execution_count": 20,
   "metadata": {
    "collapsed": true
   },
   "outputs": [
    {
     "name": "stdout",
     "output_type": "stream",
     "text": [
      "   pop   state  year\n",
      "0  1.5    Ohio  2000\n",
      "1  1.7    Ohio  2001\n",
      "2  3.6    Ohio  2002\n",
      "3  2.4  Nevada  2001\n",
      "4  3.9  Nevada  2002\n",
      "--------------------------------------------------------------------------------\n",
      "   year   state  pop\n",
      "0  2000    Ohio  1.5\n",
      "1  2001    Ohio  1.7\n",
      "2  2002    Ohio  3.6\n",
      "3  2001  Nevada  2.4\n",
      "4  2002  Nevada  3.9\n",
      "--------------------------------------------------------------------------------\n",
      "       year   state  pop\n",
      "one    2000    Ohio  1.5\n",
      "two    2001    Ohio  1.7\n",
      "three  2002    Ohio  3.6\n",
      "four   2001  Nevada  2.4\n",
      "five   2002  Nevada  3.9\n",
      "one        Ohio\n",
      "two        Ohio\n",
      "three      Ohio\n",
      "four     Nevada\n",
      "five     Nevada\n",
      "Name: state, dtype: object\n",
      "--------------------------------------------------------------------------------\n"
     ]
    }
   ],
   "source": [
    "from pandas import Series, DataFrame\n",
    "\n",
    "def print_star():\n",
    "    print('-' * 80)\n",
    "\n",
    "data = {\n",
    "    \"state\": ['Ohio', 'Ohio', 'Ohio', 'Nevada', 'Nevada'],\n",
    "    \"year\": [2000, 2001, 2002, 2001, 2002],\n",
    "    \"pop\": [1.5, 1.7, 3.6, 2.4, 3.9]\n",
    "}\n",
    "\n",
    "frame = DataFrame(data)\n",
    "print(frame)\n",
    "print_star()\n",
    "\n",
    "columns_frame = DataFrame(data, columns=['year', 'state', 'pop'])\n",
    "print(columns_frame)\n",
    "print_star()\n",
    "\n",
    "\n",
    "index_frame = DataFrame(data, columns=['year', 'state', 'pop'], index=['one', 'two', 'three', 'four', 'five'])\n",
    "print(index_frame)\n",
    "# 取列\n",
    "print(index_frame['state'])\n",
    "print_star()\n",
    "\n"
   ]
  },
  {
   "cell_type": "code",
   "execution_count": 4,
   "metadata": {
    "collapsed": true
   },
   "outputs": [
    {
     "name": "stdout",
     "output_type": "stream",
     "text": [
      "{\"failed\": [], \"s\": 2, \"t\": 2, \"success\": [\"\n",
      "2018-04-04 04:33:02 \\u62c9\\u53d6\\u6700\\u65b0\\u4ee3\\u7801\\u3002\n",
      "2018-04-04 04:33:05 \\u5df2\\u5b8c\\u6210\", \"\n",
      "\n",
      "\n",
      "\n",
      "2018-04-04 04:33:05 \\u66f4\\u65b0\\u4ee3\\u7801, release-prod-20180403-v1 to 10.177.210.119\n",
      "2018-04-04 04:33:06 \\u5df2\\u5b8c\\u6210\", \"\n",
      "\n",
      "2018-04-04 04:33:06 \\u66f4\\u65b0\\u4ee3\\u7801, release-prod-20180403-v1 to 10.177.210.106\n",
      "A   dist/0.166.js\n",
      "A   dist/flags.svg\n",
      "A   dist/index.166.css\n",
      "A   dist/index.166.js\n",
      "A   dist/index.html\n",
      "A   dist/manifest.166.js\n",
      "A   dist/akamai/gtm-test-object.txt\n",
      "A   dist/img/PC0106_03.png\n",
      "A   dist/img/logos.png\n",
      "A   dist/img/m_arrow_d.png\n",
      "A   dist/img/mcredit.png\n",
      "A   dist/img/rw_logos.png\n",
      "2018-04-04 04:33:06 \\u5df2\\u5b8c\\u6210\"], \"f\": 0}\n"
     ]
    }
   ],
   "source": [
    "print \"\"\"{\"failed\": [], \"s\": 2, \"t\": 2, \"success\": [\"\\n2018-04-04 04:33:02 \\u62c9\\u53d6\\u6700\\u65b0\\u4ee3\\u7801\\u3002\\n2018-04-04 04:33:05 \\u5df2\\u5b8c\\u6210\", \"\\n\\n\\n\\n2018-04-04 04:33:05 \\u66f4\\u65b0\\u4ee3\\u7801, release-prod-20180403-v1 to 10.177.210.119\\n2018-04-04 04:33:06 \\u5df2\\u5b8c\\u6210\", \"\\n\\n2018-04-04 04:33:06 \\u66f4\\u65b0\\u4ee3\\u7801, release-prod-20180403-v1 to 10.177.210.106\\nA   dist/0.166.js\\nA   dist/flags.svg\\nA   dist/index.166.css\\nA   dist/index.166.js\\nA   dist/index.html\\nA   dist/manifest.166.js\\nA   dist/akamai/gtm-test-object.txt\\nA   dist/img/PC0106_03.png\\nA   dist/img/logos.png\\nA   dist/img/m_arrow_d.png\\nA   dist/img/mcredit.png\\nA   dist/img/rw_logos.png\\n2018-04-04 04:33:06 \\u5df2\\u5b8c\\u6210\"], \"f\": 0}\"\"\"\n"
   ]
  },
  {
   "cell_type": "code",
   "execution_count": 22,
   "metadata": {
    "collapsed": true
   },
   "outputs": [
    {
     "name": "stdout",
     "output_type": "stream",
     "text": [
      "0    6.5\n",
      "1    1.0\n",
      "2    6.5\n",
      "3    4.5\n",
      "4    3.0\n",
      "5    2.0\n",
      "6    4.5\n",
      "dtype: float64\n",
      "19\n"
     ]
    }
   ],
   "source": [
    "from pandas import Series, DataFrame\n",
    "\n",
    "obj = Series([7, -5, 7, 4, 2, 0, 4])\n",
    "print obj.rank()\n",
    "print sum([7, -5, 7, 4, 2, 0, 4])"
   ]
  },
  {
   "cell_type": "code",
   "execution_count": 34,
   "metadata": {
    "collapsed": true
   },
   "outputs": [
    {
     "name": "stdout",
     "output_type": "stream",
     "text": [
      "          0         1         2\n",
      "0 -0.091815 -1.104663  1.236677\n",
      "1  0.756317  1.987946  0.202702\n",
      "2 -0.096155 -1.270145  0.598318\n",
      "3 -0.140632  0.394274  2.020256\n",
      "4 -0.402148 -0.451641  0.613066\n",
      "5 -2.205906  1.067855  1.566339\n",
      "6  1.197639  0.925809 -1.068081\n",
      "[ 0.  1.  2.]\n",
      "[[0 1]\n",
      " [2 3]\n",
      " [4 5]]\n"
     ]
    }
   ],
   "source": [
    "from numpy import *\n",
    "from pandas import *\n",
    "\n",
    "# print random.randn(7, 3)\n",
    "\n",
    "df = DataFrame(random.randn(7, 3))\n",
    "print df\n",
    "\n",
    "print arange(3.0)\n",
    "print arange(6).reshape(3, 2)\n"
   ]
  },
  {
   "cell_type": "code",
   "execution_count": 1,
   "metadata": {},
   "outputs": [
    {
     "name": "stdout",
     "output_type": "stream",
     "text": [
      "   A  B  C\n",
      "0  1  2  2\n",
      "1  1  4  5\n",
      "2  1  2  4\n",
      "3  1  6  3\n",
      "4  2  3  1\n",
      "5  2  4  1\n",
      "6  2  3  5\n",
      "7  3  1  1\n",
      "A  B  C\n",
      "1  2  2    1\n",
      "      4    1\n",
      "   4  5    1\n",
      "   6  3    1\n",
      "2  3  1    1\n",
      "      5    1\n",
      "   4  1    1\n",
      "3  1  1    1\n",
      "dtype: int64\n"
     ]
    }
   ],
   "source": [
    "import pandas as pd\n",
    "df=pd.DataFrame([[1,2,2],[1,4,5],[1,2,4],[1,6,3],[2,3,1],[2,4,1],[2,3,5],[3,1,1]],columns=['A','B','C'])\n",
    "print df\n",
    "\n",
    "gp=df.groupby(by=['A', 'B', 'C'])\n",
    "print gp.size()\n",
    "\n",
    "A = df.groupby(by=['A'])\n",
    "for i in A:\n",
    "    print i"
   ]
  },
  {
   "cell_type": "code",
   "execution_count": 58,
   "metadata": {
    "collapsed": true
   },
   "outputs": [
    {
     "name": "stdout",
     "output_type": "stream",
     "text": [
      "               a         b         c         d         e\n",
      "Joe    -0.620518 -1.697714  0.681595  0.335098 -2.579200\n",
      "Steve   0.646063  0.407563 -0.602238 -0.216130 -1.187331\n",
      "Wes     0.264160       NaN       NaN  1.724516  1.540976\n",
      "Jim    -1.179435 -2.160310 -1.685062 -0.013502 -2.781866\n",
      "Travis -0.498770 -0.229794  1.228405 -0.230672 -1.311916\n",
      "a       red\n",
      "b       red\n",
      "c      blue\n",
      "d      blue\n",
      "e       red\n",
      "f    orange\n",
      "dtype: object\n",
      "        blue  red\n",
      "Joe        2    3\n",
      "Steve      2    3\n",
      "Wes        1    2\n",
      "Jim        2    3\n",
      "Travis     2    3\n",
      "          a         b         c         d         e\n",
      "3 -1.535793 -3.858024 -1.003467  2.046113 -3.820090\n",
      "5  0.646063  0.407563 -0.602238 -0.216130 -1.187331\n",
      "6 -0.498770 -0.229794  1.228405 -0.230672 -1.311916\n",
      "              a         b         c         d         e\n",
      "3 one -0.620518 -1.697714  0.681595  0.335098 -2.579200\n",
      "  two -1.179435 -2.160310 -1.685062 -0.013502 -2.781866\n",
      "5 one  0.646063  0.407563 -0.602238 -0.216130 -1.187331\n",
      "6 two -0.498770 -0.229794  1.228405 -0.230672 -1.311916\n"
     ]
    }
   ],
   "source": [
    "from pandas import Series, DataFrame\n",
    "import numpy as np\n",
    "\n",
    "# print np.random.randn(5, 5)\n",
    "people = DataFrame(np.random.randn(5, 5), columns=['a', 'b', 'c', 'd', 'e'], index=['Joe', 'Steve', 'Wes', 'Jim', 'Travis'])\n",
    "# 添加几个NA值\n",
    "people.loc[2:3, ['b', 'c']] = np.nan\n",
    "print people\n",
    "\n",
    "mapping = {'a': 'red', 'b': 'red', 'c': 'blue', 'd': 'blue', 'e': 'red', 'f': 'orange'}\n",
    "\n",
    "by_column = people.groupby(mapping, axis=1)\n",
    "by_column.sum()\n",
    "\n",
    "map_series = Series(mapping)\n",
    "print(map_series)\n",
    "\n",
    "people_map_series = people.groupby(map_series, axis=1).count()\n",
    "print people_map_series\n",
    "\n",
    "print people.groupby(len).sum()\n",
    "\n",
    "key_list = ['one', 'one', 'one', 'two', 'two']\n",
    "print people.groupby([len, key_list]).min()"
   ]
  },
  {
   "cell_type": "code",
   "execution_count": null,
   "metadata": {},
   "outputs": [],
   "source": []
  }
 ],
 "metadata": {
  "kernelspec": {
   "display_name": "Python 3",
   "language": "python",
   "name": "python3"
  },
  "language_info": {
   "codemirror_mode": {
    "name": "ipython",
    "version": 2
   },
   "file_extension": ".py",
   "mimetype": "text/x-python",
   "name": "python",
   "nbconvert_exporter": "python",
   "pygments_lexer": "ipython2",
   "version": "2.7.5"
  }
 },
 "nbformat": 4,
 "nbformat_minor": 2
}
