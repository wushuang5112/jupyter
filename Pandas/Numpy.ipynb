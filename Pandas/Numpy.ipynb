{
 "cells": [
  {
   "cell_type": "markdown",
   "metadata": {},
   "source": [
    "# 利用Python进行数据分析之Numpy使用（第四章）"
   ]
  },
  {
   "cell_type": "code",
   "execution_count": null,
   "metadata": {},
   "outputs": [],
   "source": [
    "import pandas as pd\n",
    "fec = pd.read_csv('ch09/P')"
   ]
  },
  {
   "cell_type": "code",
   "execution_count": null,
   "metadata": {},
   "outputs": [],
   "source": [
    "import numpy as np\n",
    "points = np.arange(-5, 5, 0.01)\n",
    "xs, ys = np.meshgrid(points, points)\n",
    "\n",
    "import matplotlib.pyplot as plt\n",
    "z = np.sqrt(xs ** 2 + ys ** 2)\n",
    "plt.imshow(z, cmap=plt.cm.gray)\n",
    "plt.title(\"Image plot of $\\sqrt{x^2 + y^2}$ for a grid of values\")"
   ]
  },
  {
   "cell_type": "code",
   "execution_count": null,
   "metadata": {},
   "outputs": [],
   "source": [
    "import numpy as np\n",
    "xarr = np.array([1.1, 1.2, 1.3, 1.4, 1.5])\n",
    "yarr = np.array([2.1, 2.2, 2.3, 2.4, 2.5])\n",
    "\n",
    "cond = np.array([True, False, True, True, False])\n",
    "\n",
    "# 根据cond条件选取xarr或yarr中的值\n",
    "result = [ (x if c else y)\n",
    "              for x, y, c in zip(xarr, yarr, cond)\n",
    "         ]\n",
    "\n",
    "# 使用np.where同样地处理\n",
    "result = np.where(cond, xarr, yarr)\n",
    "print(result)\n",
    "\n",
    "# 使用标题\n",
    "arr = np.random.randn(4, 4)\n",
    "np.where(arr > 0, 2, -2)\n",
    "\n"
   ]
  },
  {
   "cell_type": "markdown",
   "metadata": {},
   "source": [
    "### 矩阵运算"
   ]
  },
  {
   "cell_type": "code",
   "execution_count": null,
   "metadata": {},
   "outputs": [],
   "source": [
    "import numpy as np\n",
    "\n",
    "# 矩阵运算\n",
    "x = np.array([[1, 2,3], [4, 5,6]])\n",
    "y = np.array([[6, 23], [-1, 7], [8, 9]])\n",
    "print(x.dot(y))\n"
   ]
  },
  {
   "cell_type": "code",
   "execution_count": null,
   "metadata": {},
   "outputs": [],
   "source": [
    "from numpy.linalg import inv, qr\n",
    "from numpy import random\n",
    "\n",
    "X = random.randn(5, 8)\n",
    "print('X', X)\n",
    "\n",
    "mat = X.T.dot(X)\n",
    "print('mat', mat)\n",
    "\n",
    "inv(mat)\n",
    "\n",
    "mat.dot(inv(mat))\n",
    "\n",
    "q, r = qr(mat)\n",
    "print('q, r', q, r)"
   ]
  },
  {
   "cell_type": "markdown",
   "metadata": {},
   "source": [
    "## 随机数据生成\n",
    "\n",
    "### seed 随机种子\n",
    "### permutation 随机排列\n",
    "### shuffle 随机排列\n",
    "### rand 均匀分布的样本值\n",
    "### randint 从给定的上下限范围内随机选取整数\n",
    "### randn 产生正太分布(平均值为0， 标准差为1)的样本值，类似于MATLAB接口\n",
    "### binomial 产生二项分布的样本值\n",
    "### normal 产生正态（高斯）分布的样本值\n",
    "### beta 产生Beta分布的样本值\n",
    "### chisquare 产生卡方分布的样本值\n",
    "### gamma 产生Gamma分布的样本值\n",
    "### uniform 产生在(0, 1)的均匀分布的样本值"
   ]
  },
  {
   "cell_type": "code",
   "execution_count": null,
   "metadata": {},
   "outputs": [],
   "source": [
    "import numpy as np\n",
    "samples = np.random.normal(size=(4, 4))\n",
    "samples"
   ]
  },
  {
   "cell_type": "code",
   "execution_count": null,
   "metadata": {},
   "outputs": [],
   "source": [
    "from random import normalvariate\n",
    "N = 1000000\n",
    "%timeit smaples = [normalvariate(0, 1) for _ in range(N)]\n",
    "\n",
    "import numpy as np\n",
    "%timeit np.random.normal(size=N)"
   ]
  },
  {
   "cell_type": "markdown",
   "metadata": {},
   "source": [
    "### 随机漫步"
   ]
  },
  {
   "cell_type": "code",
   "execution_count": 28,
   "metadata": {},
   "outputs": [
    {
     "data": {
      "text/plain": [
       "array([[  1,   2,   3, ...,  -2,  -3,  -4],\n",
       "       [  1,   0,   1, ...,   0,   1,   2],\n",
       "       [ -1,   0,   1, ...,  68,  67,  66],\n",
       "       ...,\n",
       "       [ -1,  -2,  -1, ...,  56,  55,  56],\n",
       "       [ -1,  -2,  -1, ..., -36, -37, -36],\n",
       "       [  1,   0,   1, ...,  10,  11,  12]])"
      ]
     },
     "execution_count": 28,
     "metadata": {},
     "output_type": "execute_result"
    }
   ],
   "source": [
    "nwalks = 5000\n",
    "nsteps = 1000\n",
    "\n",
    "draws = np.random.randint(0, 2, size=(nwalks, nsteps))\n",
    "steps = np.where(draws > 0, 1, -1)\n",
    "\n",
    "walks = steps.cumsum(1)\n",
    "walks\n"
   ]
  },
  {
   "cell_type": "code",
   "execution_count": 32,
   "metadata": {},
   "outputs": [
    {
     "name": "stdout",
     "output_type": "stream",
     "text": [
      "最大值 131\n",
      "最小值 -113\n"
     ]
    }
   ],
   "source": [
    "print('最大值', walks.max())\n",
    "print('最小值', walks.min())"
   ]
  },
  {
   "cell_type": "code",
   "execution_count": 33,
   "metadata": {},
   "outputs": [
    {
     "name": "stdout",
     "output_type": "stream",
     "text": [
      "[False  True  True ...  True  True  True]\n",
      "3408\n"
     ]
    }
   ],
   "source": [
    "hits30 = (np.abs(walks) >= 30).any(1)\n",
    "print(hits30)\n",
    "\n",
    "print(hits30.sum())"
   ]
  },
  {
   "cell_type": "code",
   "execution_count": 34,
   "metadata": {},
   "outputs": [
    {
     "data": {
      "text/plain": [
       "497.44659624413146"
      ]
     },
     "execution_count": 34,
     "metadata": {},
     "output_type": "execute_result"
    }
   ],
   "source": [
    "# 选取那些穿越了30(绝对值)的随机漫步(行), 并调用argmax在轴1上获取穿越时间\n",
    "crossing_times = (np.abs(walks[hits30]) >= 30).argmax(1)\n",
    "\n",
    "crossing_times.mean()\n"
   ]
  },
  {
   "cell_type": "code",
   "execution_count": null,
   "metadata": {},
   "outputs": [],
   "source": []
  }
 ],
 "metadata": {
  "kernelspec": {
   "display_name": "Python 3",
   "language": "python",
   "name": "python3"
  },
  "language_info": {
   "codemirror_mode": {
    "name": "ipython",
    "version": 3
   },
   "file_extension": ".py",
   "mimetype": "text/x-python",
   "name": "python",
   "nbconvert_exporter": "python",
   "pygments_lexer": "ipython3",
   "version": "3.6.5"
  }
 },
 "nbformat": 4,
 "nbformat_minor": 2
}
