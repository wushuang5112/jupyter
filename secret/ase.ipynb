{
 "cells": [
  {
   "cell_type": "code",
   "execution_count": 9,
   "metadata": {},
   "outputs": [
    {
     "name": "stdout",
     "output_type": "stream",
     "text": [
      "(u'd42f3a2e06983aeb607165e6e780e7269f0d89152b9dae55ce1541539001bfdd', u'0i!od4r[GN52!bxoa0')\n"
     ]
    }
   ],
   "source": [
    "# pip install pycrypto\n",
    "# _*_coding:utf8_*_\n",
    "import sys\n",
    "from Crypto.Cipher import AES\n",
    "from binascii import b2a_hex, a2b_hex\n",
    "\n",
    "# from ops_cmdb.settings import ST_CONF\n",
    "\n",
    "\n",
    "ST_CONF = 'BXz1V0hyGC6q8aQh'\n",
    "\n",
    "\n",
    "class AESCrypt(object):\n",
    "    def __init__(self):\n",
    "        # 初始化密钥\n",
    "        self.key = ST_CONF\n",
    "        self.mode = AES.MODE_CBC\n",
    "\n",
    "    def encrypt(self, text):\n",
    "        # 加密函数，如果text不是16的倍数【加密文本text必须为16的倍数！】，那就补足为16的倍数\n",
    "        cryptor = AES.new(self.key, self.mode, self.key)\n",
    "        text = text.encode(\"utf-8\")\n",
    "        # 这里密钥key 长度必须为16(AES-128)\n",
    "        length = 16\n",
    "        count = len(text)\n",
    "        add = length - (count % length)\n",
    "        text = text + (b'\\0' * add)\n",
    "        self.ciphertext = cryptor.encrypt(text)\n",
    "        # 因为AES加密时候得到的字符串不一定是ascii字符集的，输出到终端或者保存时候可能存在问题\n",
    "        # 所以这里统一把加密后的字符串转化为16进制字符串\n",
    "        return b2a_hex(self.ciphertext).decode(\"ASCII\")\n",
    "\n",
    "    def decrypt(self, text):\n",
    "        # 解密后，去掉补足的空格用strip() 去掉\n",
    "        cryptor = AES.new(self.key, self.mode, self.key)\n",
    "        plain_text = cryptor.decrypt(a2b_hex(text))\n",
    "        return plain_text.rstrip(b'\\0').decode(\"utf-8\")\n",
    "\n",
    "\n",
    "if __name__ == '__main__':\n",
    "    pc = AESCrypt()\n",
    "    e = pc.encrypt(\"0i!od4r[GN52!bxoa0\")\n",
    "    d = pc.decrypt(e)\n",
    "    print(e, d)\n",
    "\n"
   ]
  },
  {
   "cell_type": "code",
   "execution_count": null,
   "metadata": {},
   "outputs": [],
   "source": []
  }
 ],
 "metadata": {
  "kernelspec": {
   "display_name": "Python 2",
   "language": "python",
   "name": "python2"
  },
  "language_info": {
   "codemirror_mode": {
    "name": "ipython",
    "version": 2
   },
   "file_extension": ".py",
   "mimetype": "text/x-python",
   "name": "python",
   "nbconvert_exporter": "python",
   "pygments_lexer": "ipython2",
   "version": "2.7.5"
  }
 },
 "nbformat": 4,
 "nbformat_minor": 2
}
