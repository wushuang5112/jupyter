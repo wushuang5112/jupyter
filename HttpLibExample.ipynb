{
 "cells": [
  {
   "cell_type": "code",
   "execution_count": 14,
   "metadata": {},
   "outputs": [
    {
     "name": "stdout",
     "output_type": "stream",
     "text": [
      "\n",
      "hlll\n",
      "-------------------- 49420\n",
      "['_HTTPConnection__response', '_HTTPConnection__state', '__doc__', '__init__', '__module__', '_buffer', '_http_vsn', '_http_vsn_str', '_method', '_output', '_send_output', '_send_request', '_set_content_length', '_set_hostport', '_tunnel', '_tunnel_headers', '_tunnel_host', '_tunnel_port', 'auto_open', 'close', 'connect', 'debuglevel', 'default_port', 'endheaders', 'getresponse', 'host', 'port', 'putheader', 'putrequest', 'request', 'response_class', 'send', 'set_debuglevel', 'set_tunnel', 'sock', 'source_address', 'strict', 'timeout']\n",
      "-------------------- 49552\n",
      "['_HTTPConnection__response', '_HTTPConnection__state', '__doc__', '__init__', '__module__', '_buffer', '_http_vsn', '_http_vsn_str', '_method', '_output', '_send_output', '_send_request', '_set_content_length', '_set_hostport', '_tunnel', '_tunnel_headers', '_tunnel_host', '_tunnel_port', 'auto_open', 'close', 'connect', 'debuglevel', 'default_port', 'endheaders', 'getresponse', 'host', 'port', 'putheader', 'putrequest', 'request', 'response_class', 'send', 'set_debuglevel', 'set_tunnel', 'sock', 'source_address', 'strict', 'timeout']\n",
      "-------------------- 48823\n",
      "['_HTTPConnection__response', '_HTTPConnection__state', '__doc__', '__init__', '__module__', '_buffer', '_http_vsn', '_http_vsn_str', '_method', '_output', '_send_output', '_send_request', '_set_content_length', '_set_hostport', '_tunnel', '_tunnel_headers', '_tunnel_host', '_tunnel_port', 'auto_open', 'close', 'connect', 'debuglevel', 'default_port', 'endheaders', 'getresponse', 'host', 'port', 'putheader', 'putrequest', 'request', 'response_class', 'send', 'set_debuglevel', 'set_tunnel', 'sock', 'source_address', 'strict', 'timeout']\n",
      "-------------------- 48767\n",
      "['_HTTPConnection__response', '_HTTPConnection__state', '__doc__', '__init__', '__module__', '_buffer', '_http_vsn', '_http_vsn_str', '_method', '_output', '_send_output', '_send_request', '_set_content_length', '_set_hostport', '_tunnel', '_tunnel_headers', '_tunnel_host', '_tunnel_port', 'auto_open', 'close', 'connect', 'debuglevel', 'default_port', 'endheaders', 'getresponse', 'host', 'port', 'putheader', 'putrequest', 'request', 'response_class', 'send', 'set_debuglevel', 'set_tunnel', 'sock', 'source_address', 'strict', 'timeout']\n",
      "-------------------- 49167\n",
      "['_HTTPConnection__response', '_HTTPConnection__state', '__doc__', '__init__', '__module__', '_buffer', '_http_vsn', '_http_vsn_str', '_method', '_output', '_send_output', '_send_request', '_set_content_length', '_set_hostport', '_tunnel', '_tunnel_headers', '_tunnel_host', '_tunnel_port', 'auto_open', 'close', 'connect', 'debuglevel', 'default_port', 'endheaders', 'getresponse', 'host', 'port', 'putheader', 'putrequest', 'request', 'response_class', 'send', 'set_debuglevel', 'set_tunnel', 'sock', 'source_address', 'strict', 'timeout']\n"
     ]
    }
   ],
   "source": [
    "import httplib\n",
    "from random import randint\n",
    "\n",
    "print \n",
    "\n",
    "print 'hlll'\n",
    "\n",
    "HTTP_SERVER_ADDR = \"10.40.2.187\"\n",
    "HTTP_SERVER_PORT = 9999\n",
    "HTTP_CLIENT_ADDR = \"10.40.2.139\"\n",
    "\n",
    "is_break = True\n",
    "i = 0\n",
    "\n",
    "while is_break:\n",
    "    try:\n",
    "        i += 1\n",
    "        HTTP_CLIENT_PORT = randint(48000, 50000)\n",
    "        print '-' * 20, HTTP_CLIENT_PORT\n",
    "        myHttpConn = httplib.HTTPConnection(HTTP_SERVER_ADDR, HTTP_SERVER_PORT, source_address = ('', HTTP_CLIENT_PORT))\n",
    "        print dir(myHttpConn)\n",
    "        myHttpConn.debuglevel = 0\n",
    "        HTTP_SERVER_FILE = '/celery_worker.log'\n",
    "        myHttpConn.request(\"GET\", HTTP_SERVER_FILE)\n",
    "        if i < 5:\n",
    "            raise ValueError\n",
    "        is_break = False\n",
    "    except:\n",
    "        pass\n"
   ]
  },
  {
   "cell_type": "code",
   "execution_count": 3,
   "metadata": {},
   "outputs": [
    {
     "name": "stdout",
     "output_type": "stream",
     "text": [
      "Help on function get in module requests.api:\n",
      "\n",
      "get(url, params=None, **kwargs)\n",
      "    Sends a GET request.\n",
      "    \n",
      "    :param url: URL for the new :class:`Request` object.\n",
      "    :param params: (optional) Dictionary or bytes to be sent in the query string for the :class:`Request`.\n",
      "    :param \\*\\*kwargs: Optional arguments that ``request`` takes.\n",
      "    :return: :class:`Response <Response>` object\n",
      "    :rtype: requests.Response\n",
      "\n"
     ]
    }
   ],
   "source": [
    "import requests\n",
    "help(requests.get)\n"
   ]
  },
  {
   "cell_type": "code",
   "execution_count": 5,
   "metadata": {},
   "outputs": [
    {
     "name": "stdout",
     "output_type": "stream",
     "text": [
      "Help on method request in module httplib:\n",
      "\n",
      "request(self, method, url, body=None, headers={}) method of httplib.HTTPConnection instance\n",
      "    Send a complete request to the server.\n",
      "\n"
     ]
    }
   ],
   "source": [
    "#!/usr/bin/env python\n",
    "#coding=utf8\n",
    " \n",
    "import httplib, urllib\n",
    "\n",
    "httpClient = httplib.HTTPConnection(\"baidu.com\", 80, timeout=30)\n",
    "help(httpClient.request)\n",
    " \n",
    "# httpClient = None\n",
    "# try:\n",
    "#     params = urllib.urlencode({'name': 'tom', 'age': 22})\n",
    "#     headers = {\"Content-type\": \"application/x-www-form-urlencoded\",\n",
    "#                \"Accept\": \"text/plain\"}\n",
    " \n",
    "#     httpClient = httplib.HTTPConnection(\"localhost\", 80, timeout=30)\n",
    "#     httpClient.request(\"POST\", \"/test.php\", params, headers)\n",
    " \n",
    "#     response = httpClient.getresponse()\n",
    "#     print response.status\n",
    "#     print response.reason\n",
    "#     print response.read()\n",
    "#     print response.getheaders() #获取头信息\n",
    "# except Exception, e:\n",
    "#     print e\n",
    "# finally:\n",
    "#     if httpClient:\n",
    "#         httpClient.close()"
   ]
  },
  {
   "cell_type": "code",
   "execution_count": null,
   "metadata": {},
   "outputs": [],
   "source": []
  }
 ],
 "metadata": {
  "kernelspec": {
   "display_name": "Python 2",
   "language": "python",
   "name": "python2"
  },
  "language_info": {
   "codemirror_mode": {
    "name": "ipython",
    "version": 2
   },
   "file_extension": ".py",
   "mimetype": "text/x-python",
   "name": "python",
   "nbconvert_exporter": "python",
   "pygments_lexer": "ipython2",
   "version": "2.7.5"
  }
 },
 "nbformat": 4,
 "nbformat_minor": 2
}
